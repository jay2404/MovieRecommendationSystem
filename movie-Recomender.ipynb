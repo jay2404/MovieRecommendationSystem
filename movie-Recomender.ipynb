{
 "cells": [
  {
   "cell_type": "code",
   "execution_count": null,
   "id": "32faf35e",
   "metadata": {},
   "outputs": [],
   "source": [
    "import numpy as np\n",
    "import pandas as pd\n",
    "import ast"
   ]
  },
  {
   "cell_type": "code",
   "execution_count": null,
   "id": "9253c463",
   "metadata": {},
   "outputs": [],
   "source": [
    "movies= pd.read_csv('tmdb_5000_movies.csv')\n",
    "credits = pd.read_csv('tmdb_5000_credits.csv')"
   ]
  },
  {
   "cell_type": "code",
   "execution_count": null,
   "id": "f5d5dda2",
   "metadata": {},
   "outputs": [],
   "source": [
    "movies.head()"
   ]
  },
  {
   "cell_type": "code",
   "execution_count": null,
   "id": "34ed06a1",
   "metadata": {},
   "outputs": [],
   "source": [
    "credits.head(1)"
   ]
  },
  {
   "cell_type": "code",
   "execution_count": null,
   "id": "78915378",
   "metadata": {
    "scrolled": false
   },
   "outputs": [],
   "source": [
    "# <<<<<<<<<<if you want specifically see the data of any one columns in array form >>>>>>>\n",
    "credits.head(1)['crew'].values"
   ]
  },
  {
   "cell_type": "code",
   "execution_count": null,
   "id": "6c72babe",
   "metadata": {},
   "outputs": [],
   "source": [
    "## now merging both the data frame because working with diff diff data is so relibable"
   ]
  },
  {
   "cell_type": "code",
   "execution_count": null,
   "id": "cda69521",
   "metadata": {},
   "outputs": [],
   "source": [
    "# now assigning new merge data to movies variable that is our main df\n",
    "movies= movies.merge(credits, on='title')   "
   ]
  },
  {
   "cell_type": "code",
   "execution_count": null,
   "id": "3f0f2c42",
   "metadata": {},
   "outputs": [],
   "source": [
    "# movies.shape  ---> this give the error becuase we reassign new movie pls run merge only one times next time your data that you \n",
    "# assign the movies have only those attributes that you wanted to merge them"
   ]
  },
  {
   "cell_type": "code",
   "execution_count": null,
   "id": "f85dde60",
   "metadata": {},
   "outputs": [],
   "source": [
    "credits.shape"
   ]
  },
  {
   "cell_type": "code",
   "execution_count": null,
   "id": "5fb9d8c4",
   "metadata": {},
   "outputs": [],
   "source": [
    "movies.head(1)"
   ]
  },
  {
   "cell_type": "code",
   "execution_count": null,
   "id": "017c0bd4",
   "metadata": {},
   "outputs": [],
   "source": [
    "movies.shape\n",
    "# columns is 23 because we merge on title so we do not add one more title on merge data"
   ]
  },
  {
   "cell_type": "code",
   "execution_count": null,
   "id": "dd625582",
   "metadata": {},
   "outputs": [],
   "source": [
    "# # important thing from df that we should create tag so we always focus on string attributes and avoid numeric\n",
    "#  1. genres\n",
    "#  2. id\n",
    "#  3. keywords\n",
    "#  4. title\n",
    "#  5. overview\n",
    "# 'releasing date' is important factor but again its numerical so it's not compatiable with our approcach\n",
    "# 6. cast\n",
    "# 7. crew\n",
    "movies[['movie_id', 'title', 'overview', 'genres','keywords','cast', 'crew']]\n",
    "# movies.head()"
   ]
  },
  {
   "cell_type": "code",
   "execution_count": null,
   "id": "02fa0ea0",
   "metadata": {},
   "outputs": [],
   "source": [
    "# movies['original_language'].value_counts()    ##orginal_languange does not matter because highly imbalalced. eng is most used\n",
    "movies.info()"
   ]
  },
  {
   "cell_type": "code",
   "execution_count": null,
   "id": "c1d316fe",
   "metadata": {},
   "outputs": [],
   "source": [
    "# now we start preprocessing of massy last columns \n",
    "movies.isnull().sum()"
   ]
  },
  {
   "cell_type": "code",
   "execution_count": null,
   "id": "6b564d0f",
   "metadata": {},
   "outputs": [],
   "source": [
    "# now we have only 3 missing data of \"overview\" row so we drop off\n",
    "movies.dropna(inplace=True)"
   ]
  },
  {
   "cell_type": "code",
   "execution_count": null,
   "id": "62fde634",
   "metadata": {},
   "outputs": [],
   "source": [
    "# now check for duplicate data\n",
    "movies.duplicated().sum()"
   ]
  },
  {
   "cell_type": "code",
   "execution_count": null,
   "id": "b5aa8db8",
   "metadata": {},
   "outputs": [],
   "source": [
    "movies.iloc[0].genres\n",
    "# so it is dictionary in list format but what I want to like list only"
   ]
  },
  {
   "cell_type": "code",
   "execution_count": null,
   "id": "3e6f91b8",
   "metadata": {},
   "outputs": [],
   "source": [
    "# '[{\"id\": 28, \"name\": \"Action\"}, {\"id\": 12, \"name\": \"Adventure\"}, {\"id\": 14, \"name\": \"Fantasy\"}, {\"id\": 878, \"name\": \"Science Fiction\"}]'\n",
    "# ['Action', 'Adventure','Fantasy', 'Science Fiction']   isme lekar aana hai"
   ]
  },
  {
   "cell_type": "code",
   "execution_count": null,
   "id": "facb2cdc",
   "metadata": {},
   "outputs": [],
   "source": [
    "def convert(obj):\n",
    "    L=[]\n",
    "    counter=0\n",
    "    for i in ast.literal_eval(obj):\n",
    "        L.append(i['name'])\n",
    "        \n",
    "    return L\n",
    "        "
   ]
  },
  {
   "cell_type": "code",
   "execution_count": null,
   "id": "c2f7fc4b",
   "metadata": {},
   "outputs": [],
   "source": [
    "movies['genres']= movies['genres'].apply(convert)"
   ]
  },
  {
   "cell_type": "code",
   "execution_count": null,
   "id": "2cb6ac42",
   "metadata": {},
   "outputs": [],
   "source": [
    "movies.head()\n",
    "# now the genres problem is solved now apply this same method for keywords also"
   ]
  },
  {
   "cell_type": "code",
   "execution_count": null,
   "id": "dc74913f",
   "metadata": {},
   "outputs": [],
   "source": [
    "movies['keywords']= movies['keywords'].apply(convert)"
   ]
  },
  {
   "cell_type": "code",
   "execution_count": null,
   "id": "823278a6",
   "metadata": {},
   "outputs": [],
   "source": [
    "movies['cast'][0]\n",
    "# now we take only top 3 cast in our data frame so"
   ]
  },
  {
   "cell_type": "code",
   "execution_count": null,
   "id": "e55ec36d",
   "metadata": {},
   "outputs": [],
   "source": [
    "def convert3(obj):\n",
    "    L=[]\n",
    "    counter=0\n",
    "    for i in ast.literal_eval(obj):\n",
    "        if counter !=3:\n",
    "            L.append(i['name'])\n",
    "            counter+=1\n",
    "        else:\n",
    "            break\n",
    "    return L\n",
    "        "
   ]
  },
  {
   "cell_type": "code",
   "execution_count": null,
   "id": "61b92bc9",
   "metadata": {},
   "outputs": [],
   "source": [
    "movies['cast']= movies['cast'].apply(convert3)"
   ]
  },
  {
   "cell_type": "code",
   "execution_count": null,
   "id": "5ce78841",
   "metadata": {},
   "outputs": [],
   "source": [
    "movies.head()"
   ]
  },
  {
   "cell_type": "code",
   "execution_count": null,
   "id": "2d67b332",
   "metadata": {},
   "outputs": [],
   "source": [
    "# now we extract job dic in crew column cos we need only job section name of director.\n",
    "import ast\n",
    "def fetch_director(obj):\n",
    "    L=[]\n",
    "    counter=0\n",
    "    for i in ast.literal_eval(obj):\n",
    "        if i['job'] == 'Director':\n",
    "            L.append(i['name'])\n",
    "        break\n",
    "    return L\n",
    "        "
   ]
  },
  {
   "cell_type": "code",
   "execution_count": null,
   "id": "bbfa9763",
   "metadata": {},
   "outputs": [],
   "source": [
    "movies['crew'] =movies['crew'].apply(fetch_director)"
   ]
  },
  {
   "cell_type": "code",
   "execution_count": null,
   "id": "3f78f752",
   "metadata": {},
   "outputs": [],
   "source": [
    "movies.head()"
   ]
  },
  {
   "cell_type": "code",
   "execution_count": null,
   "id": "e0b8d898",
   "metadata": {},
   "outputs": [],
   "source": [
    "# now we convert \"overview \" in series so that we easly concatenate with others.\n",
    "movies['overview'][0]"
   ]
  },
  {
   "cell_type": "code",
   "execution_count": null,
   "id": "d415408c",
   "metadata": {},
   "outputs": [],
   "source": [
    "movies['overview']= movies['overview'].apply(lambda x :x.split())"
   ]
  },
  {
   "cell_type": "code",
   "execution_count": null,
   "id": "723b6568",
   "metadata": {},
   "outputs": [],
   "source": [
    "movies.head()"
   ]
  },
  {
   "cell_type": "markdown",
   "id": "0dd8baa2",
   "metadata": {},
   "source": [
    "# now Remove the space \" \" between words in all columns "
   ]
  },
  {
   "cell_type": "code",
   "execution_count": null,
   "id": "2f057784",
   "metadata": {},
   "outputs": [],
   "source": [
    "movies['genres'] =movies['genres'].apply(lambda x:[i.replace(\" \",\"\") for i in x])\n",
    "movies.head()"
   ]
  },
  {
   "cell_type": "code",
   "execution_count": null,
   "id": "edb86e8b",
   "metadata": {},
   "outputs": [],
   "source": [
    "# now repeat above method for all columns\n",
    "movies['keywords'] =movies['keywords'].apply(lambda x:[i.replace(\" \",\"\") for i in x])\n",
    "movies['cast'] =movies['cast'].apply(lambda x:[i.replace(\" \",\"\") for i in x])\n",
    "movies['crew'] =movies['crew'].apply(lambda x:[i.replace(\" \",\"\") for i in x])\n"
   ]
  },
  {
   "cell_type": "code",
   "execution_count": null,
   "id": "6ddcd5fd",
   "metadata": {},
   "outputs": [],
   "source": [
    "movies.head()"
   ]
  },
  {
   "cell_type": "code",
   "execution_count": null,
   "id": "f27c08de",
   "metadata": {},
   "outputs": [],
   "source": [
    "# now Concatenate the below columns\n",
    "movies['tags']=movies['overview']+ movies['genres']+movies['keywords']+movies['cast']+movies['crew']"
   ]
  },
  {
   "cell_type": "code",
   "execution_count": null,
   "id": "f9b63c53",
   "metadata": {},
   "outputs": [],
   "source": [
    "movies.head()"
   ]
  },
  {
   "cell_type": "code",
   "execution_count": null,
   "id": "665a1c70",
   "metadata": {},
   "outputs": [],
   "source": [
    "# now we don't need all columns so we make new data frame where we take only tags column instead of last 4 ecxet tags\n",
    "new_df =movies[['movie_id','title', 'tags']]"
   ]
  },
  {
   "cell_type": "code",
   "execution_count": null,
   "id": "a81c81d4",
   "metadata": {},
   "outputs": [],
   "source": [
    "# now we convert the series of tags into string\n",
    "new_df['tags']= new_df['tags'].apply(lambda x:\" \".join(x))"
   ]
  },
  {
   "cell_type": "code",
   "execution_count": null,
   "id": "300e3a6d",
   "metadata": {},
   "outputs": [],
   "source": [
    "new_df['tags'][0]"
   ]
  },
  {
   "cell_type": "code",
   "execution_count": null,
   "id": "f7b78cc2",
   "metadata": {},
   "outputs": [],
   "source": [
    "# now we convert its lowercase letter cos its recommneded for tags\n",
    "new_df['tags']= new_df['tags'].apply(lambda x:x.lower())"
   ]
  },
  {
   "cell_type": "code",
   "execution_count": null,
   "id": "ac14bb7b",
   "metadata": {},
   "outputs": [],
   "source": [
    "new_df.head()"
   ]
  },
  {
   "cell_type": "code",
   "execution_count": null,
   "id": "506bba57",
   "metadata": {},
   "outputs": [],
   "source": [
    "# so now here we use steming from nltk library is toolkit for appliying static in natural pricessing language (NPL)\n",
    "# why--> {love, loving, loved } that is one word love but diff form is problematic so we want to reduce the retundency to impove tags efficiency so\n",
    "# here we use stemping to convert all word in one {love}"
   ]
  },
  {
   "cell_type": "code",
   "execution_count": null,
   "id": "52e93803",
   "metadata": {},
   "outputs": [],
   "source": [
    "import nltk\n",
    "from nltk.stem.porter import PorterStemmer\n",
    "ps=PorterStemmer()"
   ]
  },
  {
   "cell_type": "code",
   "execution_count": null,
   "id": "d6677fcf",
   "metadata": {},
   "outputs": [],
   "source": [
    "def stem(text):\n",
    "    y=[]\n",
    "    for i in text.split():\n",
    "        y.append(ps.stem(i))\n",
    "    \n",
    "    return \" \".join(y)"
   ]
  },
  {
   "cell_type": "code",
   "execution_count": null,
   "id": "a7f85ace",
   "metadata": {},
   "outputs": [],
   "source": [
    "new_df['tags']= new_df['tags'].apply(stem)"
   ]
  },
  {
   "cell_type": "code",
   "execution_count": null,
   "id": "516ed536",
   "metadata": {},
   "outputs": [],
   "source": [
    "new_df['tags'][0]"
   ]
  },
  {
   "cell_type": "code",
   "execution_count": null,
   "id": "340342c6",
   "metadata": {},
   "outputs": [],
   "source": [
    "new_df['tags'][1]"
   ]
  },
  {
   "cell_type": "code",
   "execution_count": null,
   "id": "caa05710",
   "metadata": {},
   "outputs": [],
   "source": [
    "from sklearn.feature_extraction.text import CountVectorizer\n",
    "cv =CountVectorizer(max_features=5000,stop_words='english')"
   ]
  },
  {
   "cell_type": "code",
   "execution_count": null,
   "id": "e72c696a",
   "metadata": {},
   "outputs": [],
   "source": [
    "vector= cv.fit_transform(new_df['tags']).toarray()"
   ]
  },
  {
   "cell_type": "code",
   "execution_count": null,
   "id": "45369345",
   "metadata": {},
   "outputs": [],
   "source": [
    "vector.shape"
   ]
  },
  {
   "cell_type": "code",
   "execution_count": null,
   "id": "1b4a7827",
   "metadata": {},
   "outputs": [],
   "source": [
    "vector"
   ]
  },
  {
   "cell_type": "code",
   "execution_count": null,
   "id": "07e07e5a",
   "metadata": {},
   "outputs": [],
   "source": [
    "vector[0]"
   ]
  },
  {
   "cell_type": "code",
   "execution_count": null,
   "id": "e6506b03",
   "metadata": {},
   "outputs": [],
   "source": [
    "# cv have lots of function where cv.get_feature_names show us all 5000 words that come out from tags corps(group of lots of string ).\n",
    "cv.get_feature_names()"
   ]
  },
  {
   "cell_type": "code",
   "execution_count": null,
   "id": "2dcd7ab4",
   "metadata": {},
   "outputs": [],
   "source": [
    "ps.stem('love')"
   ]
  },
  {
   "cell_type": "code",
   "execution_count": null,
   "id": "1bb79ce5",
   "metadata": {},
   "outputs": [],
   "source": [
    "stem('in the 22nd century, a paraplegic marine is dispatched to the moon pandora on a unique mission, but becomes torn between following orders and protecting an alien civilization. action adventure fantasy sciencefiction cultureclash future spacewar spacecolony society spacetravel futuristic romance space alien tribe alienplanet cgi marine soldier battle loveaffair antiwar powerrelations mindandsoul 3d samworthington zoesaldana sigourneyweaver')"
   ]
  },
  {
   "cell_type": "code",
   "execution_count": null,
   "id": "9de6ffed",
   "metadata": {},
   "outputs": [],
   "source": [
    "# 1) now next step you have to find the cosine distance between vector of tags rather than uklerian distance btw vector cos cosine dista\n",
    "# is more efficient \n",
    "# 2) distance inversly propostional to similarities of movie"
   ]
  },
  {
   "cell_type": "code",
   "execution_count": null,
   "id": "4b45823a",
   "metadata": {},
   "outputs": [],
   "source": [
    "from sklearn.metrics.pairwise import cosine_similarity"
   ]
  },
  {
   "cell_type": "code",
   "execution_count": null,
   "id": "16a04541",
   "metadata": {},
   "outputs": [],
   "source": [
    "# here we use similar_movie varible instead of similarity varible acc to campusx video tut youtbe\n",
    "similar_movie =cosine_similarity(vector)"
   ]
  },
  {
   "cell_type": "code",
   "execution_count": null,
   "id": "afcf9f7b",
   "metadata": {},
   "outputs": [],
   "source": [
    "#  This enumerated object can then be used directly for loops or converted into a list of tuples using the list() method.\n",
    "sorted(list(enumerate(similar_movie[0])),reverse=True, key=lambda x:x[1])[1:6]"
   ]
  },
  {
   "cell_type": "code",
   "execution_count": null,
   "id": "37066302",
   "metadata": {},
   "outputs": [],
   "source": [
    "# now we make actual recommended function which give you to five top similar movie "
   ]
  },
  {
   "cell_type": "code",
   "execution_count": null,
   "id": "328d71c4",
   "metadata": {},
   "outputs": [],
   "source": [
    "def recommend(movie):\n",
    "    movie_index =new_df[new_df['title']==movie].index[0]\n",
    "    distances =similar_movie[movie_index]\n",
    "    movie_list =sorted(list(enumerate(distances)),reverse=True, key=lambda x:x[1])[1:6]\n",
    "    \n",
    "    for i in movie_list:\n",
    "            print(new_df.iloc[i[0]].title)\n",
    "          "
   ]
  },
  {
   "cell_type": "code",
   "execution_count": null,
   "id": "008d1b71",
   "metadata": {},
   "outputs": [],
   "source": [
    "recommend('Batman Begins')"
   ]
  },
  {
   "cell_type": "code",
   "execution_count": null,
   "id": "691f9aa3",
   "metadata": {},
   "outputs": [],
   "source": [
    "# now we dump in pickle file\n",
    "import pickle"
   ]
  },
  {
   "cell_type": "code",
   "execution_count": null,
   "id": "c6078e7c",
   "metadata": {},
   "outputs": [],
   "source": [
    "new_df['title'].values[1]"
   ]
  },
  {
   "cell_type": "code",
   "execution_count": null,
   "id": "cac09a28",
   "metadata": {},
   "outputs": [],
   "source": [
    "pickle.dump(new_df.to_dict(),open('movie_dict.pkl','wb'))"
   ]
  },
  {
   "cell_type": "code",
   "execution_count": null,
   "id": "89d01b92",
   "metadata": {},
   "outputs": [],
   "source": [
    "new_df.to_dict()"
   ]
  },
  {
   "cell_type": "code",
   "execution_count": null,
   "id": "2286dc3f",
   "metadata": {},
   "outputs": [],
   "source": [
    "# now we need similarity_movie in my mian app so we dump it in pickle file\n",
    "pickle.dump(similar_movie, open('similar_movie.pkl', 'wb'))"
   ]
  },
  {
   "cell_type": "code",
   "execution_count": null,
   "id": "da9817bc",
   "metadata": {},
   "outputs": [],
   "source": []
  }
 ],
 "metadata": {
  "kernelspec": {
   "display_name": "Python 3 (ipykernel)",
   "language": "python",
   "name": "python3"
  },
  "language_info": {
   "codemirror_mode": {
    "name": "ipython",
    "version": 3
   },
   "file_extension": ".py",
   "mimetype": "text/x-python",
   "name": "python",
   "nbconvert_exporter": "python",
   "pygments_lexer": "ipython3",
   "version": "3.9.5"
  }
 },
 "nbformat": 4,
 "nbformat_minor": 5
}
